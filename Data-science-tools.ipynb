{
 "cells": [
  {
   "cell_type": "markdown",
   "id": "b1fbc792-7a20-4ff4-99c4-812d4a4f952b",
   "metadata": {},
   "source": [
    "Data-science-tools"
   ]
  },
  {
   "cell_type": "markdown",
   "id": "b7b5fed2-e87b-4f33-81c0-d883aefb3d79",
   "metadata": {},
   "source": [
    "Data science Languages\n",
    "Python\n",
    "R\n",
    "SQL \n",
    "JAVA \n",
    "C++\n",
    "C#"
   ]
  },
  {
   "cell_type": "markdown",
   "id": "d164ce8f-e7f1-40f7-b5c3-d40271140d80",
   "metadata": {},
   "source": [
    "numy\n",
    "pandas \n",
    "matplotlib\n",
    "seaborn\n",
    "ggplot \n",
    "dply"
   ]
  },
  {
   "cell_type": "markdown",
   "id": "6bbd6c3b-fd3b-450e-bea1-58e9f610eaee",
   "metadata": {},
   "source": [
    "introduction to arthmetic expression"
   ]
  },
  {
   "cell_type": "code",
   "execution_count": 1,
   "id": "d4dd5c95-6be8-4917-a396-d51c5aeeeb9a",
   "metadata": {
    "tags": []
   },
   "outputs": [
    {
     "name": "stdout",
     "output_type": "stream",
     "text": [
      "2\n",
      "1.0\n",
      "216\n",
      "0\n"
     ]
    }
   ],
   "source": [
    "print(1+1)\n",
    "print(1/1)\n",
    "print(18*12)\n",
    "print(1-1)"
   ]
  },
  {
   "cell_type": "code",
   "execution_count": 2,
   "id": "ab77a77a-5fc9-47d1-aaa8-17d9567f0e0f",
   "metadata": {
    "tags": []
   },
   "outputs": [
    {
     "name": "stdin",
     "output_type": "stream",
     "text": [
      "Enter Mintues :  70\n"
     ]
    },
    {
     "name": "stdout",
     "output_type": "stream",
     "text": [
      "Houres ->  42.0\n"
     ]
    }
   ],
   "source": [
    "mint=int(input(\"Enter Mintues : \"))\n",
    "hour = mint*0.60\n",
    "print(\"Houres -> \",hour)"
   ]
  },
  {
   "cell_type": "code",
   "execution_count": null,
   "id": "55e74a93-0f44-4f2d-a03d-2d95f3b8b73c",
   "metadata": {},
   "outputs": [],
   "source": []
  }
 ],
 "metadata": {
  "kernelspec": {
   "display_name": "Python 3 (ipykernel)",
   "language": "python",
   "name": "python3"
  },
  "language_info": {
   "codemirror_mode": {
    "name": "ipython",
    "version": 3
   },
   "file_extension": ".py",
   "mimetype": "text/x-python",
   "name": "python",
   "nbconvert_exporter": "python",
   "pygments_lexer": "ipython3",
   "version": "3.11.0"
  }
 },
 "nbformat": 4,
 "nbformat_minor": 5
}
